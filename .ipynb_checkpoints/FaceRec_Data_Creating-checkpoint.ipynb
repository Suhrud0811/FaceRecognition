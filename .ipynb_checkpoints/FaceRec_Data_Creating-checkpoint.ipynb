{
 "cells": [
  {
   "cell_type": "code",
   "execution_count": 1,
   "id": "applicable-small",
   "metadata": {},
   "outputs": [],
   "source": [
    "import os\n",
    "import numpy as np\n",
    "import cv2"
   ]
  },
  {
   "cell_type": "code",
   "execution_count": 2,
   "id": "electronic-still",
   "metadata": {},
   "outputs": [
    {
     "name": "stdout",
     "output_type": "stream",
     "text": [
      "['Barack Obama', 'Donald Trump', 'George W Bush']\n",
      "[0 1 2]\n",
      "{'Barack Obama': 0, 'Donald Trump': 1, 'George W Bush': 2}\n"
     ]
    }
   ],
   "source": [
    "data_path=r'traindata'\n",
    "labels=os.listdir(data_path) #will create a array of all folders inside the path\n",
    "print(labels)\n",
    "\n",
    "\n",
    "categories=np.arange(len(labels))\n",
    "print(categories)\n",
    "\n",
    "categories_dict=dict(zip(labels,categories))\n",
    "\n",
    "print(categories_dict)\n",
    "\n",
    "face_cascader=cv2.CascadeClassifier('haarcascade_frontalface_default.xml')\n",
    "\n",
    "#print(face_cascader)\n",
    "data=[]\n",
    "target=[]\n"
   ]
  },
  {
   "cell_type": "code",
   "execution_count": null,
   "id": "joint-apollo",
   "metadata": {
    "collapsed": true
   },
   "outputs": [
    {
     "name": "stdout",
     "output_type": "stream",
     "text": [
      "If you want to accept this image? press Y/N\n",
      "If you want to accept this image? press Y/N\n",
      "If you want to accept this image? press Y/N\n",
      "If you want to accept this image? press Y/N\n",
      "If you want to accept this image? press Y/N\n",
      "If you want to accept this image? press Y/N\n",
      "If you want to accept this image? press Y/N\n",
      "If you want to accept this image? press Y/N\n",
      "If you want to accept this image? press Y/N\n",
      "If you want to accept this image? press Y/N\n",
      "If you want to accept this image? press Y/N\n",
      "If you want to accept this image? press Y/N\n",
      "If you want to accept this image? press Y/N\n",
      "If you want to accept this image? press Y/N\n",
      "If you want to accept this image? press Y/N\n",
      "If you want to accept this image? press Y/N\n",
      "If you want to accept this image? press Y/N\n",
      "If you want to accept this image? press Y/N\n",
      "If you want to accept this image? press Y/N\n",
      "If you want to accept this image? press Y/N\n",
      "If you want to accept this image? press Y/N\n",
      "If you want to accept this image? press Y/N\n",
      "If you want to accept this image? press Y/N\n",
      "If you want to accept this image? press Y/N\n",
      "If you want to accept this image? press Y/N\n",
      "If you want to accept this image? press Y/N\n",
      "If you want to accept this image? press Y/N\n",
      "If you want to accept this image? press Y/N\n",
      "If you want to accept this image? press Y/N\n",
      "If you want to accept this image? press Y/N\n",
      "If you want to accept this image? press Y/N\n",
      "If you want to accept this image? press Y/N\n",
      "If you want to accept this image? press Y/N\n",
      "If you want to accept this image? press Y/N\n",
      "If you want to accept this image? press Y/N\n",
      "If you want to accept this image? press Y/N\n",
      "If you want to accept this image? press Y/N\n",
      "If you want to accept this image? press Y/N\n",
      "If you want to accept this image? press Y/N\n",
      "If you want to accept this image? press Y/N\n",
      "If you want to accept this image? press Y/N\n",
      "If you want to accept this image? press Y/N\n",
      "If you want to accept this image? press Y/N\n",
      "If you want to accept this image? press Y/N\n",
      "If you want to accept this image? press Y/N\n",
      "If you want to accept this image? press Y/N\n",
      "If you want to accept this image? press Y/N\n",
      "If you want to accept this image? press Y/N\n",
      "If you want to accept this image? press Y/N\n",
      "If you want to accept this image? press Y/N\n"
     ]
    }
   ],
   "source": [
    "for label in labels:\n",
    "    imgs_path=os.path.join(data_path,label)\n",
    "    \n",
    "    img_names=os.listdir(imgs_path)\n",
    "    \n",
    "\n",
    "    for i in img_names:\n",
    "        img_path=os.path.join(imgs_path,i)\n",
    "       \n",
    "        img=cv2.imread(img_path)\n",
    "        gray=cv2.cvtColor(img,cv2.COLOR_BGR2GRAY)\n",
    "        faces=face_cascader.detectMultiScale(gray) #called classifier and passed gray image to it returns numpy array,for 2 faces\n",
    "        #will return 2-D array.As each face will have its own x,w,y,h\n",
    "        \n",
    "       \n",
    "        \n",
    "        for (x,y,w,h) in faces:\n",
    "            #cv2.rectangle(img,(x,y),(x+w,y+h),(0,0,255),2) # 2 at the last is line thickness,img passed insted of gray just to show the rectangle for understanding purpose\n",
    "            cropped_face=gray[y:y+h,x:x+w] # starts with y beacuse its a numpy array so first give rows ie y and then columns x\n",
    "            cv2.imshow(\"Live\",cropped_face)\n",
    "            print(\"If you want to accept this image? press Y/N\")\n",
    "            k=cv2.waitKey(0) #if a key is pressed its ascii value will be taken into K\n",
    "           \n",
    "            if k==121:\n",
    "                cropped_face=cv2.resize(cropped_face,(50,50))\n",
    "                data.append(cropped_face)\n",
    "                target.append(categories_dict[label])\n",
    "                \n",
    "        \n",
    "        \n",
    "     \n",
    "       \n"
   ]
  },
  {
   "cell_type": "code",
   "execution_count": null,
   "id": "classical-civilian",
   "metadata": {},
   "outputs": [],
   "source": [
    "data=np.array(data)\n",
    "target=np.array(target\n",
    "                \n",
    "# shape will be (360,50,50) which will be converted into (360,50*50) image will flatterned \n",
    "data=data.rehape(data.shape[0],data.shape[1]*data.shape[2])\n",
    "                \n",
    "np.save(\"data\",data)\n",
    "np.save('target',target)\n",
    "\n",
    "\n",
    "\n"
   ]
  },
  {
   "cell_type": "code",
   "execution_count": null,
   "id": "dense-oakland",
   "metadata": {},
   "outputs": [],
   "source": []
  },
  {
   "cell_type": "code",
   "execution_count": null,
   "id": "aware-malta",
   "metadata": {},
   "outputs": [],
   "source": []
  }
 ],
 "metadata": {
  "kernelspec": {
   "display_name": "Python 3",
   "language": "python",
   "name": "python3"
  },
  "language_info": {
   "codemirror_mode": {
    "name": "ipython",
    "version": 3
   },
   "file_extension": ".py",
   "mimetype": "text/x-python",
   "name": "python",
   "nbconvert_exporter": "python",
   "pygments_lexer": "ipython3",
   "version": "3.8.5"
  }
 },
 "nbformat": 4,
 "nbformat_minor": 5
}
